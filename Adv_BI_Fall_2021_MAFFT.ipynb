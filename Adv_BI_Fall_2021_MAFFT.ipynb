{
  "nbformat": 4,
  "nbformat_minor": 0,
  "metadata": {
    "orig_nbformat": 4,
    "colab": {
      "name": "Adv. BI. Fall 2021 - MAFFT",
      "provenance": [],
      "collapsed_sections": [],
      "toc_visible": true
    },
    "language_info": {
      "name": "python"
    },
    "kernelspec": {
      "name": "python3",
      "display_name": "Python 3"
    }
  },
  "cells": [
    {
      "cell_type": "markdown",
      "metadata": {
        "id": "8kEru0g5dW6v"
      },
      "source": [
        "# MAFFT exercise - Adv. BI. Fall 2021\n",
        "\n",
        "## Contents\n",
        "1. Environment setup\n",
        "2. Usage text (-h)\n",
        "3. Run MAFFT (FFT-NS-2, FFT-NS-i)\n",
        "4. Visualize and compare results"
      ]
    },
    {
      "cell_type": "markdown",
      "metadata": {
        "id": "FWPBj0J4yT6F"
      },
      "source": [
        "## 1. Environment setup"
      ]
    },
    {
      "cell_type": "markdown",
      "metadata": {
        "id": "E3RWi5fizV4G"
      },
      "source": [
        "### Install MAFFT"
      ]
    },
    {
      "cell_type": "code",
      "metadata": {
        "id": "mUJt4WBC0dN1"
      },
      "source": [
        "%%bash\n",
        "rm -r mafft*\n",
        "mkdir mafft\n",
        "wget https://mafft.cbrc.jp/alignment/software/mafft-7.487-with-extensions-src.tgz\n",
        "tar xfz mafft-7.487-with-extensions-src.tgz\n",
        "cd mafft-7.487-with-extensions/core/\n",
        "echo \"PREFIX = /content/mafft\" > Makefile.tmp\n",
        "tail -n+2 Makefile >> Makefile.tmp\n",
        "mv Makefile.tmp Makefile\n",
        "make clean\n",
        "make\n",
        "make install"
      ],
      "execution_count": null,
      "outputs": []
    },
    {
      "cell_type": "markdown",
      "metadata": {
        "id": "91RXVj3dI9l4"
      },
      "source": [
        "\n",
        "\n",
        "\n",
        "\n",
        "---\n",
        "\n",
        "\n",
        "\n"
      ]
    },
    {
      "cell_type": "markdown",
      "metadata": {
        "id": "m2M1_TERJL2A"
      },
      "source": [
        "## Usage text"
      ]
    },
    {
      "cell_type": "code",
      "metadata": {
        "colab": {
          "base_uri": "https://localhost:8080/"
        },
        "id": "9srFjF21_d3Y",
        "outputId": "2de8cede-01d2-448d-d586-2e6ddc34a3ea"
      },
      "source": [
        "!mafft/bin/mafft -h"
      ],
      "execution_count": null,
      "outputs": [
        {
          "output_type": "stream",
          "name": "stdout",
          "text": [
            "mafft/bin/mafft: Cannot open -h.\n",
            "\n",
            "------------------------------------------------------------------------------\n",
            "  MAFFT v7.487 (2021/Jul/25)\n",
            "  https://mafft.cbrc.jp/alignment/software/\n",
            "  MBE 30:772-780 (2013), NAR 30:3059-3066 (2002)\n",
            "------------------------------------------------------------------------------\n",
            "High speed:\n",
            "  % mafft in > out\n",
            "  % mafft --retree 1 in > out (fast)\n",
            "\n",
            "High accuracy (for <~200 sequences x <~2,000 aa/nt):\n",
            "  % mafft --maxiterate 1000 --localpair  in > out (% linsi in > out is also ok)\n",
            "  % mafft --maxiterate 1000 --genafpair  in > out (% einsi in > out)\n",
            "  % mafft --maxiterate 1000 --globalpair in > out (% ginsi in > out)\n",
            "\n",
            "If unsure which option to use:\n",
            "  % mafft --auto in > out\n",
            "\n",
            "--op # :         Gap opening penalty, default: 1.53\n",
            "--ep # :         Offset (works like gap extension penalty), default: 0.0\n",
            "--maxiterate # : Maximum number of iterative refinement, default: 0\n",
            "--clustalout :   Output: clustal format, default: fasta\n",
            "--reorder :      Outorder: aligned, default: input order\n",
            "--quiet :        Do not report progress\n",
            "--thread # :     Number of threads (if unsure, --thread -1)\n",
            "--dash :         Add structural information (Rozewicki et al, submitted)\n"
          ]
        }
      ]
    },
    {
      "cell_type": "markdown",
      "metadata": {
        "id": "R7uaPVIzyZcd"
      },
      "source": [
        "\n",
        "\n",
        "---\n",
        "\n"
      ]
    },
    {
      "cell_type": "markdown",
      "metadata": {
        "id": "5O9FFRV7JR7e"
      },
      "source": [
        "## Run MAFFT"
      ]
    },
    {
      "cell_type": "markdown",
      "metadata": {
        "id": "0QP4qeAAKgj9"
      },
      "source": [
        "### Run FFT-NS-2"
      ]
    },
    {
      "cell_type": "code",
      "metadata": {
        "colab": {
          "base_uri": "https://localhost:8080/"
        },
        "id": "289JLmepJ3OS",
        "outputId": "23e35ae9-300d-4df5-91a4-8c9bc870c8ab"
      },
      "source": [
        "!mafft/bin/mafft --maxiterate 0 drive/MyDrive/Colab\\ Notebooks/mafft/rpb1.fasta > rpb1_ns2.fasta"
      ],
      "execution_count": null,
      "outputs": [
        {
          "output_type": "stream",
          "name": "stdout",
          "text": [
            "nthread = 0\n",
            "nthreadpair = 0\n",
            "nthreadtb = 0\n",
            "ppenalty_ex = 0\n",
            "stacksize: 8192 kb\n",
            "rescale = 1\n",
            "Gap Penalty = -1.53, +0.00, +0.00\n",
            "\n",
            "\n",
            "\n",
            "Making a distance matrix ..\n",
            "\r    1 / 5\n",
            "done.\n",
            "\n",
            "Constructing a UPGMA tree (efffree=0) ... \n",
            "\r    0 / 5\n",
            "done.\n",
            "\n",
            "Progressive alignment 1/2... \n",
            "\rSTEP     1 / 4  f\b\b\rSTEP     2 / 4  f\b\b\rSTEP     3 / 4  f\b\b\rSTEP     4 / 4  f\b\b\n",
            "done.\n",
            "\n",
            "Making a distance matrix from msa.. \n",
            "\r    0 / 5\n",
            "done.\n",
            "\n",
            "Constructing a UPGMA tree (efffree=1) ... \n",
            "\r    0 / 5\n",
            "done.\n",
            "\n",
            "Progressive alignment 2/2... \n",
            "\rSTEP     1 / 4  f\b\b\rSTEP     2 / 4  f\b\b\rSTEP     3 / 4  f\b\b\rSTEP     4 / 4  f\b\b\n",
            "done.\n",
            "\n",
            "disttbfast (aa) Version 7.487\n",
            "alg=A, model=BLOSUM62, 1.53, -0.00, -0.00, noshift, amax=0.0\n",
            "0 thread(s)\n",
            "\n",
            "\n",
            "Strategy:\n",
            " FFT-NS-2 (Fast but rough)\n",
            " Progressive method (guide trees were built 2 times.)\n",
            "\n",
            "If unsure which option to use, try 'mafft --auto input > output'.\n",
            "For more information, see 'mafft --help', 'mafft --man' and the mafft page.\n",
            "\n",
            "The default gap scoring scheme has been changed in version 7.110 (2013 Oct).\n",
            "It tends to insert more gaps into gap-rich regions than previous versions.\n",
            "To disable this change, add the --leavegappyregion option.\n",
            "\n"
          ]
        }
      ]
    },
    {
      "cell_type": "code",
      "metadata": {
        "colab": {
          "base_uri": "https://localhost:8080/"
        },
        "id": "p4CBgWstLD_P",
        "outputId": "86e5235e-ea6d-447b-9c59-6b2ea4a1757f"
      },
      "source": [
        "!head rpb1_ns2.fasta"
      ],
      "execution_count": null,
      "outputs": [
        {
          "output_type": "stream",
          "name": "stdout",
          "text": [
            ">RPB1_HUMAN\n",
            "MHGGGPPSGDSACPLRTIKRVQFGVLSPDELKRMSVTEGGIKYPETTE--GGRPKLGGLM\n",
            "DPRQGVIERTGRCQTCAGNMTECPGHFGHIELAKPVFHVGFLVKTMKVLRCVCFFCSKLL\n",
            "VDSNNPKIKDILAKSKGQPKKRLTHVYDLCKGKNICEGGEEMDNKFGVEQPEGDEDL--T\n",
            "KEKGHGGCGRYQPRIRRSGLELYAEW-KH-VNEDSQEKKI-LLSPERVHEIFKRISDEEC\n",
            "FVLGMEPRYARPEWMIVTVLPVPPLSVRPAVVMQGSARNQDDLTHKLADIVKINNQLRRN\n",
            "EQNGAAAHVIAEDVKLLQFHVATMVDNELPGLPRAMQKSGRPLKSLKQRLKGKEGRVRGN\n",
            "LMGKRVDFSARTVITPDPNLSIDQVGVPRSIAANMTFAEIVTPFNIDRLQELVRRGNSQY\n",
            "PGAKYIIRDNGDRIDLRFHPKPSDLHLQTGYKVERHMCDGDIVIFNRQPTLHKMSMMGHR\n",
            "VRILPWSTFRLNLSVTTPYNADFDGDEMNLHLPQSLETRAEIQELAMVPRMIVTPQSNRP\n"
          ]
        }
      ]
    },
    {
      "cell_type": "markdown",
      "metadata": {
        "id": "BICK1XTEKn1w"
      },
      "source": [
        "### Run FFT-NS-i"
      ]
    },
    {
      "cell_type": "code",
      "metadata": {
        "colab": {
          "base_uri": "https://localhost:8080/"
        },
        "id": "8TFEuJiSKkYA",
        "outputId": "129d6673-f8f6-4338-8478-b5343a552a96"
      },
      "source": [
        "!mafft/bin/mafft --maxiterate 1000 drive/MyDrive/Colab\\ Notebooks/mafft/rpb1.fasta > rpb1_nsi.fasta"
      ],
      "execution_count": null,
      "outputs": [
        {
          "output_type": "stream",
          "name": "stdout",
          "text": [
            "nthread = 0\n",
            "nthreadpair = 0\n",
            "nthreadtb = 0\n",
            "ppenalty_ex = 0\n",
            "stacksize: 8192 kb\n",
            "rescale = 1\n",
            "Gap Penalty = -1.53, +0.00, +0.00\n",
            "\n",
            "\n",
            "\n",
            "Making a distance matrix ..\n",
            "\r    1 / 5\n",
            "done.\n",
            "\n",
            "Constructing a UPGMA tree (efffree=0) ... \n",
            "\r    0 / 5\n",
            "done.\n",
            "\n",
            "Progressive alignment 1/2... \n",
            "\rSTEP     1 / 4  f\b\b\rSTEP     2 / 4  f\b\b\rSTEP     3 / 4  f\b\b\rSTEP     4 / 4  f\b\b\n",
            "done.\n",
            "\n",
            "Making a distance matrix from msa.. \n",
            "\r    0 / 5\n",
            "done.\n",
            "\n",
            "Constructing a UPGMA tree (efffree=1) ... \n",
            "\r    0 / 5\n",
            "done.\n",
            "\n",
            "Progressive alignment 2/2... \n",
            "\rSTEP     1 / 4  f\b\b\rSTEP     2 / 4  f\b\b\rSTEP     3 / 4  f\b\b\rSTEP     4 / 4  f\b\b\n",
            "done.\n",
            "\n",
            "disttbfast (aa) Version 7.487\n",
            "alg=A, model=BLOSUM62, 1.53, -0.00, -0.00, noshift, amax=0.0\n",
            "0 thread(s)\n",
            "\n",
            "rescale = 1\n",
            "   1/   5\r   2/   5\r   3/   5\r   4/   5\rdndpre (aa) Version 7.487\n",
            "alg=X, model=BLOSUM62, 1.53, +0.12, -0.00, noshift, amax=0.0\n",
            "0 thread(s)\n",
            "\n",
            "minimumweight = 0.000010\n",
            "autosubalignment = 0.000000\n",
            "nthread = 0\n",
            "randomseed = 0\n",
            "blosum 62 / kimura 200\n",
            "poffset = 0\n",
            "niter = 16\n",
            "sueff_global = 0.100000\n",
            "nadd = 16\n",
            "rescale = 1\n",
            "\n",
            "\r    0 / 5\n",
            "Segment   1/ 35    1-  29\n",
            "STEP 001-001-0  identical.   \rSTEP 001-001-1  identical.   \rSTEP 001-002-0  identical.   \rSTEP 001-002-1  accepted.\rSTEP 001-003-0  identical.   \rSTEP 001-003-1  accepted.\rSTEP 001-004-1  rejected.\rSTEP 002-004-1  rejected.\rSTEP 002-003-0  identical.   \rSTEP 002-003-1  identical.   \rSTEP 002-002-0  accepted.\rSTEP 002-002-1  identical.   \rSTEP 002-001-0  identical.   \rSTEP 002-001-1  identical.   \rSTEP 003-001-0  identical.   \rSTEP 003-001-1  identical.   \rSTEP 003-002-0  identical.   \rSTEP 003-002-1  identical.   \rSTEP 003-003-0  rejected.\rSTEP 003-003-1  accepted.\rSTEP 003-004-1  identical.   \rSTEP 004-004-1  identical.   \rSTEP 004-003-0  identical.   \rSTEP 004-003-1  identical.   \rSTEP 004-002-0  identical.   \rSTEP 004-002-1  identical.   \rSTEP 004-001-0  identical.   \rSTEP 004-001-1  identical.   \rSTEP 005-001-0  identical.   \rSTEP 005-001-1  identical.   \r\n",
            "Converged.\n",
            "\n",
            "Segment   2/ 35   29-  88\n",
            "STEP 001-001-0  identical.   \rSTEP 001-001-1  identical.   \rSTEP 001-002-0  identical.   \rSTEP 001-002-1  identical.   \rSTEP 001-003-0  identical.   \rSTEP 001-003-1  identical.   \rSTEP 001-004-1  identical.   \rSTEP 002-004-1  identical.   \rSTEP 002-003-0  identical.   \rSTEP 002-003-1  identical.   \r\n",
            "Converged.\n",
            "\n",
            "Segment   3/ 35   88- 151\n",
            "STEP 001-001-0  identical.   \rSTEP 001-001-1  identical.   \rSTEP 001-002-0  identical.   \rSTEP 001-002-1  identical.   \rSTEP 001-003-0  identical.   \rSTEP 001-003-1  identical.   \rSTEP 001-004-1  identical.   \rSTEP 002-004-1  identical.   \rSTEP 002-003-0  identical.   \rSTEP 002-003-1  identical.   \r\n",
            "Converged.\n",
            "\n",
            "Segment   4/ 35  151- 196\n",
            "STEP 001-001-0  identical.   \rSTEP 001-001-1  identical.   \rSTEP 001-002-0  identical.   \rSTEP 001-002-1  identical.   \rSTEP 001-003-0  identical.   \rSTEP 001-003-1  accepted.\rSTEP 001-004-1  identical.   \rSTEP 002-004-1  identical.   \rSTEP 002-003-0  identical.   \rSTEP 002-003-1  identical.   \rSTEP 002-002-0  identical.   \rSTEP 002-002-1  identical.   \rSTEP 002-001-0  identical.   \rSTEP 002-001-1  identical.   \rSTEP 003-001-0  identical.   \rSTEP 003-001-1  identical.   \r\n",
            "Converged.\n",
            "\n",
            "Segment   5/ 35  196- 270\n",
            "STEP 001-001-0  identical.   \rSTEP 001-001-1  identical.   \rSTEP 001-002-0  identical.   \rSTEP 001-002-1  identical.   \rSTEP 001-003-0  accepted.\rSTEP 001-003-1  identical.   \rSTEP 001-004-1  identical.   \rSTEP 002-004-1  identical.   \rSTEP 002-003-0  identical.   \rSTEP 002-003-1  identical.   \rSTEP 002-002-0  identical.   \rSTEP 002-002-1  identical.   \rSTEP 002-001-0  identical.   \rSTEP 002-001-1  identical.   \rSTEP 003-001-0  identical.   \r\n",
            "Converged.\n",
            "\n",
            "Segment   6/ 35  270- 300\n",
            "STEP 001-001-0  identical.   \rSTEP 001-001-1  identical.   \rSTEP 001-002-0  identical.   \rSTEP 001-002-1  identical.   \rSTEP 001-003-0  identical.   \rSTEP 001-003-1  identical.   \rSTEP 001-004-1  identical.   \rSTEP 002-004-1  identical.   \rSTEP 002-003-0  identical.   \rSTEP 002-003-1  identical.   \r\n",
            "Converged.\n",
            "\n",
            "Segment   7/ 35  300- 385\n",
            "STEP 001-001-0  identical.   \rSTEP 001-001-1  identical.   \rSTEP 001-002-0  identical.   \rSTEP 001-002-1  identical.   \rSTEP 001-003-0  identical.   \rSTEP 001-003-1  identical.   \rSTEP 001-004-1  identical.   \rSTEP 002-004-1  identical.   \rSTEP 002-003-0  identical.   \rSTEP 002-003-1  identical.   \r\n",
            "Converged.\n",
            "\n",
            "Segment   8/ 35  385- 509\n",
            "STEP 001-001-0  identical.   \rSTEP 001-001-1  identical.   \rSTEP 001-002-0  identical.   \rSTEP 001-002-1  identical.   \rSTEP 001-003-0  identical.   \rSTEP 001-003-1  identical.   \rSTEP 001-004-1  identical.   \rSTEP 002-004-1  identical.   \rSTEP 002-003-0  identical.   \rSTEP 002-003-1  identical.   \r\n",
            "Converged.\n",
            "\n",
            "Segment   9/ 35  509- 562\n",
            "STEP 001-001-0  identical.   \rSTEP 001-001-1  identical.   \rSTEP 001-002-0  identical.   \rSTEP 001-002-1  identical.   \rSTEP 001-003-0  identical.   \rSTEP 001-003-1  identical.   \rSTEP 001-004-1  identical.   \rSTEP 002-004-1  identical.   \rSTEP 002-003-0  identical.   \rSTEP 002-003-1  identical.   \r\n",
            "Converged.\n",
            "\n",
            "Segment  10/ 35  562- 570\n",
            "STEP 001-001-0  identical.   \rSTEP 001-001-1  identical.   \rSTEP 001-002-0  identical.   \rSTEP 001-002-1  identical.   \rSTEP 001-003-0  identical.   \rSTEP 001-003-1  identical.   \rSTEP 001-004-1  identical.   \rSTEP 002-004-1  identical.   \rSTEP 002-003-0  identical.   \rSTEP 002-003-1  identical.   \r\n",
            "Converged.\n",
            "\n",
            "Segment  11/ 35  570- 591\n",
            "STEP 001-001-0  identical.   \rSTEP 001-001-1  identical.   \rSTEP 001-002-0  identical.   \rSTEP 001-002-1  identical.   \rSTEP 001-003-0  identical.   \rSTEP 001-003-1  identical.   \rSTEP 001-004-1  identical.   \rSTEP 002-004-1  identical.   \rSTEP 002-003-0  identical.   \rSTEP 002-003-1  identical.   \r\n",
            "Converged.\n",
            "\n",
            "Segment  12/ 35  591- 613\n",
            "STEP 001-001-0  identical.   \rSTEP 001-001-1  identical.   \rSTEP 001-002-0  identical.   \rSTEP 001-002-1  identical.   \rSTEP 001-003-0  identical.   \rSTEP 001-003-1  identical.   \rSTEP 001-004-1  identical.   \rSTEP 002-004-1  identical.   \rSTEP 002-003-0  identical.   \rSTEP 002-003-1  identical.   \r\n",
            "Converged.\n",
            "\n",
            "Segment  13/ 35  613- 617\n",
            "STEP 001-001-0  identical.   \rSTEP 001-001-1  identical.   \rSTEP 001-002-0  identical.   \rSTEP 001-002-1  identical.   \rSTEP 001-003-0  identical.   \rSTEP 001-003-1  identical.   \rSTEP 001-004-1  identical.   \rSTEP 002-004-1  identical.   \rSTEP 002-003-0  identical.   \rSTEP 002-003-1  identical.   \r\n",
            "Converged.\n",
            "\n",
            "Segment  14/ 35  617- 631\n",
            "STEP 001-001-0  identical.   \rSTEP 001-001-1  identical.   \rSTEP 001-002-0  identical.   \rSTEP 001-002-1  identical.   \rSTEP 001-003-0  identical.   \rSTEP 001-003-1  identical.   \rSTEP 001-004-1  identical.   \rSTEP 002-004-1  identical.   \rSTEP 002-003-0  identical.   \rSTEP 002-003-1  identical.   \r\n",
            "Converged.\n",
            "\n",
            "Segment  15/ 35  631- 650\n",
            "STEP 001-001-0  identical.   \rSTEP 001-001-1  identical.   \rSTEP 001-002-0  identical.   \rSTEP 001-002-1  identical.   \rSTEP 001-003-0  identical.   \rSTEP 001-003-1  identical.   \rSTEP 001-004-1  identical.   \rSTEP 002-004-1  identical.   \rSTEP 002-003-0  identical.   \rSTEP 002-003-1  identical.   \r\n",
            "Converged.\n",
            "\n",
            "Segment  16/ 35  650- 657\n",
            "STEP 001-001-0  identical.   \rSTEP 001-001-1  identical.   \rSTEP 001-002-0  identical.   \rSTEP 001-002-1  identical.   \rSTEP 001-003-0  identical.   \rSTEP 001-003-1  identical.   \rSTEP 001-004-1  identical.   \rSTEP 002-004-1  identical.   \rSTEP 002-003-0  identical.   \rSTEP 002-003-1  identical.   \r\n",
            "Converged.\n",
            "\n",
            "Segment  17/ 35  657- 660\n",
            "STEP 001-001-0  identical.   \rSTEP 001-001-1  identical.   \rSTEP 001-002-0  identical.   \rSTEP 001-002-1  identical.   \rSTEP 001-003-0  identical.   \rSTEP 001-003-1  identical.   \rSTEP 001-004-1  identical.   \rSTEP 002-004-1  identical.   \rSTEP 002-003-0  identical.   \rSTEP 002-003-1  identical.   \r\n",
            "Converged.\n",
            "\n",
            "Segment  18/ 35  660- 693\n",
            "STEP 001-001-0  identical.   \rSTEP 001-001-1  identical.   \rSTEP 001-002-0  identical.   \rSTEP 001-002-1  identical.   \rSTEP 001-003-0  identical.   \rSTEP 001-003-1  identical.   \rSTEP 001-004-1  identical.   \rSTEP 002-004-1  identical.   \rSTEP 002-003-0  identical.   \rSTEP 002-003-1  identical.   \r\n",
            "Converged.\n",
            "\n",
            "Segment  19/ 35  693- 719\n",
            "STEP 001-001-0  identical.   \rSTEP 001-001-1  identical.   \rSTEP 001-002-0  identical.   \rSTEP 001-002-1  identical.   \rSTEP 001-003-0  identical.   \rSTEP 001-003-1  identical.   \rSTEP 001-004-1  identical.   \rSTEP 002-004-1  identical.   \rSTEP 002-003-0  identical.   \rSTEP 002-003-1  identical.   \r\n",
            "Converged.\n",
            "\n",
            "Segment  20/ 35  719- 725\n",
            "STEP 001-001-0  identical.   \rSTEP 001-001-1  identical.   \rSTEP 001-002-0  identical.   \rSTEP 001-002-1  identical.   \rSTEP 001-003-0  identical.   \rSTEP 001-003-1  identical.   \rSTEP 001-004-1  identical.   \rSTEP 002-004-1  identical.   \rSTEP 002-003-0  identical.   \rSTEP 002-003-1  identical.   \r\n",
            "Converged.\n",
            "\n",
            "Segment  21/ 35  725- 803\n",
            "STEP 001-001-0  identical.   \rSTEP 001-001-1  identical.   \rSTEP 001-002-0  identical.   \rSTEP 001-002-1  identical.   \rSTEP 001-003-0  identical.   \rSTEP 001-003-1  identical.   \rSTEP 001-004-1  identical.   \rSTEP 002-004-1  identical.   \rSTEP 002-003-0  identical.   \rSTEP 002-003-1  identical.   \r\n",
            "Converged.\n",
            "\n",
            "Segment  22/ 35  803- 894\n",
            "STEP 001-001-0  identical.   \rSTEP 001-001-1  identical.   \rSTEP 001-002-0  identical.   \rSTEP 001-002-1  identical.   \rSTEP 001-003-0  identical.   \rSTEP 001-003-1  identical.   \rSTEP 001-004-1  identical.   \rSTEP 002-004-1  identical.   \rSTEP 002-003-0  identical.   \rSTEP 002-003-1  identical.   \r\n",
            "Converged.\n",
            "\n",
            "Segment  23/ 35  894- 921\n",
            "STEP 001-001-0  identical.   \rSTEP 001-001-1  identical.   \rSTEP 001-002-0  identical.   \rSTEP 001-002-1  identical.   \rSTEP 001-003-0  identical.   \rSTEP 001-003-1  identical.   \rSTEP 001-004-1  identical.   \rSTEP 002-004-1  identical.   \rSTEP 002-003-0  identical.   \rSTEP 002-003-1  identical.   \r\n",
            "Converged.\n",
            "\n",
            "Segment  24/ 35  921- 993\n",
            "STEP 001-001-0  identical.   \rSTEP 001-001-1  identical.   \rSTEP 001-002-0  identical.   \rSTEP 001-002-1  identical.   \rSTEP 001-003-0  identical.   \rSTEP 001-003-1  identical.   \rSTEP 001-004-1  identical.   \rSTEP 002-004-1  identical.   \rSTEP 002-003-0  identical.   \rSTEP 002-003-1  identical.   \r\n",
            "Converged.\n",
            "\n",
            "Segment  25/ 35  993-1111\n",
            "STEP 001-001-0  identical.   \rSTEP 001-001-1  identical.   \rSTEP 001-002-0  identical.   \rSTEP 001-002-1  identical.   \rSTEP 001-003-0  identical.   \rSTEP 001-003-1  identical.   \rSTEP 001-004-1  identical.   \rSTEP 002-004-1  identical.   \rSTEP 002-003-0  identical.   \rSTEP 002-003-1  identical.   \r\n",
            "Converged.\n",
            "\n",
            "Segment  26/ 35 1111-1185\n",
            "STEP 001-001-0  identical.   \rSTEP 001-001-1  identical.   \rSTEP 001-002-0  identical.   \rSTEP 001-002-1  identical.   \rSTEP 001-003-0  identical.   \rSTEP 001-003-1  identical.   \rSTEP 001-004-1  identical.   \rSTEP 002-004-1  identical.   \rSTEP 002-003-0  identical.   \rSTEP 002-003-1  identical.   \r\n",
            "Converged.\n",
            "\n",
            "Segment  27/ 35 1185-1236\n",
            "STEP 001-001-0  identical.   \rSTEP 001-001-1  identical.   \rSTEP 001-002-0  identical.   \rSTEP 001-002-1  identical.   \rSTEP 001-003-0  identical.   \rSTEP 001-003-1  identical.   \rSTEP 001-004-1  identical.   \rSTEP 002-004-1  identical.   \rSTEP 002-003-0  identical.   \rSTEP 002-003-1  identical.   \r\n",
            "Converged.\n",
            "\n",
            "Segment  28/ 35 1236-1261\n",
            "STEP 001-001-0  identical.   \rSTEP 001-001-1  identical.   \rSTEP 001-002-0  identical.   \rSTEP 001-002-1  identical.   \rSTEP 001-003-0  identical.   \rSTEP 001-003-1  identical.   \rSTEP 001-004-1  identical.   \rSTEP 002-004-1  identical.   \rSTEP 002-003-0  identical.   \rSTEP 002-003-1  identical.   \r\n",
            "Converged.\n",
            "\n",
            "Segment  29/ 35 1261-1308\n",
            "STEP 001-001-0  identical.   \rSTEP 001-001-1  identical.   \rSTEP 001-002-0  identical.   \rSTEP 001-002-1  identical.   \rSTEP 001-003-0  accepted.\rSTEP 001-003-1  identical.   \rSTEP 001-004-1  identical.   \rSTEP 002-004-1  identical.   \rSTEP 002-003-0  identical.   \rSTEP 002-003-1  identical.   \rSTEP 002-002-0  identical.   \rSTEP 002-002-1  identical.   \rSTEP 002-001-0  identical.   \rSTEP 002-001-1  identical.   \rSTEP 003-001-0  identical.   \r\n",
            "Converged.\n",
            "\n",
            "Segment  30/ 35 1308-1367\n",
            "STEP 001-001-0  identical.   \rSTEP 001-001-1  identical.   \rSTEP 001-002-0  identical.   \rSTEP 001-002-1  identical.   \rSTEP 001-003-0  identical.   \rSTEP 001-003-1  identical.   \rSTEP 001-004-1  identical.   \rSTEP 002-004-1  identical.   \rSTEP 002-003-0  identical.   \rSTEP 002-003-1  identical.   \r\n",
            "Converged.\n",
            "\n",
            "Segment  31/ 35 1367-1446\n",
            "STEP 001-001-0  identical.   \rSTEP 001-001-1  identical.   \rSTEP 001-002-0  identical.   \rSTEP 001-002-1  identical.   \rSTEP 001-003-0  identical.   \rSTEP 001-003-1  identical.   \rSTEP 001-004-1  identical.   \rSTEP 002-004-1  identical.   \rSTEP 002-003-0  identical.   \rSTEP 002-003-1  identical.   \r\n",
            "Converged.\n",
            "\n",
            "Segment  32/ 35 1446-1673\n",
            "STEP 003-001-1  identical.   \n",
            "Converged.\n",
            "\n",
            "Segment  33/ 35 1676-1794\n",
            "STEP 002-003-1  identical.   \n",
            "Converged.\n",
            "\n",
            "Segment  34/ 35 1794-1904\n",
            "STEP 004-004-1  rejected.\n",
            "Converged.\n",
            "\n",
            "Segment  35/ 35 1904-2028\n",
            "STEP 002-003-1  identical.   \n",
            "Converged.\n",
            "\n",
            "done\n",
            "dvtditr (aa) Version 7.487\n",
            "alg=A, model=BLOSUM62, 1.53, -0.00, -0.00, noshift, amax=0.0\n",
            "0 thread(s)\n",
            "\n",
            "\n",
            "Strategy:\n",
            " FFT-NS-i (Accurate but slow)\n",
            " Iterative refinement method (max. 16 iterations)\n",
            "\n",
            "If unsure which option to use, try 'mafft --auto input > output'.\n",
            "For more information, see 'mafft --help', 'mafft --man' and the mafft page.\n",
            "\n",
            "The default gap scoring scheme has been changed in version 7.110 (2013 Oct).\n",
            "It tends to insert more gaps into gap-rich regions than previous versions.\n",
            "To disable this change, add the --leavegappyregion option.\n",
            "\n"
          ]
        }
      ]
    },
    {
      "cell_type": "code",
      "metadata": {
        "colab": {
          "base_uri": "https://localhost:8080/"
        },
        "id": "2jTEEqbzKrae",
        "outputId": "826a6155-09af-4d7e-bcbb-fff4527ddf34"
      },
      "source": [
        "!head rpb1_nsi.fasta"
      ],
      "execution_count": null,
      "outputs": [
        {
          "output_type": "stream",
          "name": "stdout",
          "text": [
            ">RPB1_HUMAN\n",
            "MHGGGPPSGDSACPLRTIKRVQFGVLSPDELKRMSVTEGGIKYPETTE--GGRPKLGGLM\n",
            "DPRQGVIERTGRCQTCAGNMTECPGHFGHIELAKPVFHVGFLVKTMKVLRCVCFFCSKLL\n",
            "VDSNNPKIKDILAKSKGQPKKRLTHVYDLCKGKNICEGGEEMDNKFGVEQPEGDEDLTK-\n",
            "-EKGHGGCGRYQPRIRRSGLELYAEWKH--VNEDSQEKKI-LLSPERVHEIFKRISDEEC\n",
            "FVLGMEPRYARPEWMIVTVLPVPPLSVRPAVVMQGSARNQDDLTHKLADIVKINNQLRRN\n",
            "EQNGAAAHVIAEDVKLLQFHVATMVDNELPGLPRAMQKSGRPLKSLKQRLKGKEGRVRGN\n",
            "LMGKRVDFSARTVITPDPNLSIDQVGVPRSIAANMTFAEIVTPFNIDRLQELVRRGNSQY\n",
            "PGAKYIIRDNGDRIDLRFHPKPSDLHLQTGYKVERHMCDGDIVIFNRQPTLHKMSMMGHR\n",
            "VRILPWSTFRLNLSVTTPYNADFDGDEMNLHLPQSLETRAEIQELAMVPRMIVTPQSNRP\n"
          ]
        }
      ]
    },
    {
      "cell_type": "markdown",
      "metadata": {
        "id": "rJStk2pnOxk2"
      },
      "source": [
        "\n",
        "\n",
        "---\n",
        "\n"
      ]
    },
    {
      "cell_type": "markdown",
      "metadata": {
        "id": "EOGy0vdJOy00"
      },
      "source": [
        "## Visualization"
      ]
    },
    {
      "cell_type": "code",
      "metadata": {
        "colab": {
          "base_uri": "https://localhost:8080/"
        },
        "id": "_ycf4cmAOnZ3",
        "outputId": "fbde7d96-ad63-4000-9334-870de3a52c3b"
      },
      "source": [
        "!mafft/bin/mafft --quiet --clustalout --maxiterate 0 drive/MyDrive/Colab\\ Notebooks/mafft/rpb1.fasta > rpb1_ns2_cl.out\n",
        "!mafft/bin/mafft --quiet --clustalout --maxiterate 1000 drive/MyDrive/Colab\\ Notebooks/mafft/rpb1.fasta > rpb1_nsi_cl.out\n",
        "!head rpb1_ns2_cl.out\n",
        "!head rpb1_nsi_cl.out"
      ],
      "execution_count": null,
      "outputs": [
        {
          "output_type": "stream",
          "name": "stdout",
          "text": [
            "CLUSTAL format alignment by MAFFT FFT-NS-2 (v7.487)\n",
            "\n",
            "\n",
            "RPB1_HUMAN      MHGGGPPSGDSACPLRTIKRVQFGVLSPDELKRMSVTEGGIKYPETTE--GGRPKLGGLM\n",
            "RPB1_YEAST      ----MVGQQYSSAPLRTVKEVQFGLFSPEEVRAISVAK--IRFPETMDETQTRAKIGGLN\n",
            "RPB1_CAEEL      ---MALVGVDFQAPLRIVSRVQFGILGPEEIKRMSVAH--VEFPEVYE--NGKPKLGGLM\n",
            "RPB1_MOUSE      MHGGGPPSGDSACPLRTIKRVQFGVLSPDELKRMSVTEGGIKYPETTE--GGRPKLGGLM\n",
            "RPB1_DROME      ---MSTPT-DSKAPLRQVKRVQFGILSPDEIRRMSVTEGGVQFAETME--GGRPKLGGLM\n",
            "                            .*** :..****::.*:*:: :**:.  :.:.*. :    :.*:*** \n",
            "\n",
            "CLUSTAL format alignment by MAFFT FFT-NS-i (v7.487)\n",
            "\n",
            "\n",
            "RPB1_HUMAN      MHGGGPPSGDSACPLRTIKRVQFGVLSPDELKRMSVTEGGIKYPETTE--GGRPKLGGLM\n",
            "RPB1_YEAST      MVGQ----QYSSAPLRTVKEVQFGLFSPEEVRAISVAK--IRFPETMDETQTRAKIGGLN\n",
            "RPB1_CAEEL      MALVG---VDFQAPLRIVSRVQFGILGPEEIKRMSVAH--VEFPEVYE--NGKPKLGGLM\n",
            "RPB1_MOUSE      MHGGGPPSGDSACPLRTIKRVQFGVLSPDELKRMSVTEGGIKYPETTE--GGRPKLGGLM\n",
            "RPB1_DROME      MSTP----TDSKAPLRQVKRVQFGILSPDEIRRMSVTEGGVQFAETME--GGRPKLGGLM\n",
            "                *           .*** :..****::.*:*:: :**:.  :.:.*. :    :.*:*** \n",
            "\n"
          ]
        }
      ]
    },
    {
      "cell_type": "code",
      "metadata": {
        "colab": {
          "base_uri": "https://localhost:8080/"
        },
        "id": "7qjHeEjfRaGT",
        "outputId": "185ed316-bee3-49fb-d80f-a583d25fa653"
      },
      "source": [
        "!tail rpb1_ns2_cl.out\n",
        "!tail rpb1_nsi_cl.out"
      ],
      "execution_count": null,
      "outputs": [
        {
          "output_type": "stream",
          "name": "stdout",
          "text": [
            "RPB1_MOUSE      TYSPTTPK------YSPTSPTYSPTSPVYTPTSPKYSPTSPTYSP-------TSPKYSPT\n",
            "RPB1_DROME      QYSPTGST------YSATSPRYSPNMSIYSPSSTKYSPTSPTYTP-------TARNYSPT\n",
            "                                                                       ::   \n",
            "\n",
            "RPB1_HUMAN      SPTYSPTSPKGSTYSPTSPGYSPTSPTYSLTSPAISPDDSDEEN\n",
            "RPB1_YEAST      -------------------------------------NENENSR\n",
            "RPB1_CAEEL      SPTYSPSSP---TYSPASPSYSPSSPTY---------DPNS---\n",
            "RPB1_MOUSE      SPTYSPTSPKGSTYSPTSPGYSPTSPTYSLTSPAISPDDSDEEN\n",
            "RPB1_DROME      SPMYSPTAP--SHYSPTSPAYSPSSPTF---------EESED--\n",
            "                                                     : ..   \n",
            "RPB1_MOUSE      TSPTYSPTTPK------YSPTSPTYSPTSPVYTPTSPKYSPTSPTYSP-------TSPKY\n",
            "RPB1_DROME      SN-QYSPTGST------YSATSPRYSPNMSIYSPSSTKYSPTSPTYTP-------TARNY\n",
            "                ..                                                        ::\n",
            "\n",
            "RPB1_HUMAN      SPTSPTYSPTSPKGSTYSPTSPGYSPTSPTYSLTSPAISPDDSDEEN\n",
            "RPB1_YEAST      ----------------------------------------NENENSR\n",
            "RPB1_CAEEL      SPTSPTYSPSSP---TYSPASPSYSPSSPTY---------DPNS---\n",
            "RPB1_MOUSE      SPTSPTYSPTSPKGSTYSPTSPGYSPTSPTYSLTSPAISPDDSDEEN\n",
            "RPB1_DROME      SPTSPMYSPTAP--SHYSPTSPAYSPSSPTF---------EESED--\n",
            "                                                        : ..   \n"
          ]
        }
      ]
    }
  ]
}